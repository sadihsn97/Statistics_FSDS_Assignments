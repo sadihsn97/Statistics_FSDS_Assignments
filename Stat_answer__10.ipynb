{
  "nbformat": 4,
  "nbformat_minor": 0,
  "metadata": {
    "colab": {
      "provenance": []
    },
    "kernelspec": {
      "name": "python3",
      "display_name": "Python 3"
    },
    "language_info": {
      "name": "python"
    }
  },
  "cells": [
    {
      "cell_type": "code",
      "source": [
        "import math\n",
        "\n",
        "def binomial_coefficient(n, k):\n",
        "    return math.comb(n, k)\n",
        "\n",
        "def probability_of_defective_bulbs(n, p, k):\n",
        "    q = 1 - p\n",
        "    coefficient = binomial_coefficient(n, k)\n",
        "    probability = coefficient * (p ** k) * (q ** (n - k))\n",
        "    return probability\n",
        "\n",
        "def calculate_expected_defective_bulbs(n, p):\n",
        "    return n * p\n",
        "\n",
        "# a. Probability of exactly 20 defective bulbs\n",
        "n = 500\n",
        "p = 0.05\n",
        "k = 20\n",
        "probability_20_defective = probability_of_defective_bulbs(n, p, k)\n",
        "print(f\"The probability of exactly 20 defective bulbs is: {probability_20_defective}\")\n",
        "\n",
        "# b. Probability of at least 10 defective bulbs\n",
        "probability_at_least_10_defective = sum(probability_of_defective_bulbs(n, p, i) for i in range(10, n + 1))\n",
        "print(f\"The probability of at least 10 defective bulbs is: {probability_at_least_10_defective}\")\n",
        "\n",
        "# c. Probability of at most 15 defective bulbs\n",
        "probability_at_most_15_defective = sum(probability_of_defective_bulbs(n, p, i) for i in range(16))\n",
        "print(f\"The probability of at most 15 defective bulbs is: {probability_at_most_15_defective}\")\n",
        "\n",
        "# d. Expected number of defective bulbs\n",
        "expected_defective_bulbs = calculate_expected_defective_bulbs(n, p)\n",
        "print(f\"The expected number of defective bulbs is: {expected_defective_bulbs}\")\n"
      ],
      "metadata": {
        "colab": {
          "base_uri": "https://localhost:8080/"
        },
        "id": "oxlnwVKQ7jhf",
        "outputId": "30895fa1-baf0-4115-8069-44bda2bc1529"
      },
      "execution_count": 20,
      "outputs": [
        {
          "output_type": "stream",
          "name": "stdout",
          "text": [
            "The probability of exactly 20 defective bulbs is: 0.05161619253663997\n",
            "The probability of at least 10 defective bulbs is: 0.9998316463654692\n",
            "The probability of at most 15 defective bulbs is: 0.019858377163006223\n",
            "The expected number of defective bulbs is: 25.0\n"
          ]
        }
      ]
    }
  ]
}