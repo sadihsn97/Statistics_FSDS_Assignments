{
  "nbformat": 4,
  "nbformat_minor": 0,
  "metadata": {
    "colab": {
      "provenance": []
    },
    "kernelspec": {
      "name": "python3",
      "display_name": "Python 3"
    },
    "language_info": {
      "name": "python"
    }
  },
  "cells": [
    {
      "cell_type": "code",
      "source": [
        "import pandas as pd\n",
        "import numpy as np\n",
        "import matplotlib.pyplot as plt\n",
        "import scipy.stats as stats"
      ],
      "metadata": {
        "id": "NTa3LbGTf8ct"
      },
      "execution_count": 34,
      "outputs": []
    },
    {
      "cell_type": "code",
      "source": [
        "# Read the data from the CSV file\n",
        "data = pd.read_csv('/content/data - data.csv')\n",
        "data"
      ],
      "metadata": {
        "colab": {
          "base_uri": "https://localhost:8080/",
          "height": 424
        },
        "id": "-tMWI_Y0f_F2",
        "outputId": "3e2c502b-f417-4383-d6b5-f5fc38404f6f"
      },
      "execution_count": 36,
      "outputs": [
        {
          "output_type": "execute_result",
          "data": {
            "text/plain": [
              "    Patient ID  Blood Pressure Before (mmHg)  Blood Pressure After (mmHg)\n",
              "0            1                           130                          120\n",
              "1            2                           142                          135\n",
              "2            3                           120                          118\n",
              "3            4                           135                          127\n",
              "4            5                           148                          140\n",
              "..         ...                           ...                          ...\n",
              "95          96                           136                          129\n",
              "96          97                           143                          137\n",
              "97          98                           127                          123\n",
              "98          99                           139                          135\n",
              "99         100                           135                          130\n",
              "\n",
              "[100 rows x 3 columns]"
            ],
            "text/html": [
              "\n",
              "  <div id=\"df-726e866c-b775-461c-838c-2c5896b53715\">\n",
              "    <div class=\"colab-df-container\">\n",
              "      <div>\n",
              "<style scoped>\n",
              "    .dataframe tbody tr th:only-of-type {\n",
              "        vertical-align: middle;\n",
              "    }\n",
              "\n",
              "    .dataframe tbody tr th {\n",
              "        vertical-align: top;\n",
              "    }\n",
              "\n",
              "    .dataframe thead th {\n",
              "        text-align: right;\n",
              "    }\n",
              "</style>\n",
              "<table border=\"1\" class=\"dataframe\">\n",
              "  <thead>\n",
              "    <tr style=\"text-align: right;\">\n",
              "      <th></th>\n",
              "      <th>Patient ID</th>\n",
              "      <th>Blood Pressure Before (mmHg)</th>\n",
              "      <th>Blood Pressure After (mmHg)</th>\n",
              "    </tr>\n",
              "  </thead>\n",
              "  <tbody>\n",
              "    <tr>\n",
              "      <th>0</th>\n",
              "      <td>1</td>\n",
              "      <td>130</td>\n",
              "      <td>120</td>\n",
              "    </tr>\n",
              "    <tr>\n",
              "      <th>1</th>\n",
              "      <td>2</td>\n",
              "      <td>142</td>\n",
              "      <td>135</td>\n",
              "    </tr>\n",
              "    <tr>\n",
              "      <th>2</th>\n",
              "      <td>3</td>\n",
              "      <td>120</td>\n",
              "      <td>118</td>\n",
              "    </tr>\n",
              "    <tr>\n",
              "      <th>3</th>\n",
              "      <td>4</td>\n",
              "      <td>135</td>\n",
              "      <td>127</td>\n",
              "    </tr>\n",
              "    <tr>\n",
              "      <th>4</th>\n",
              "      <td>5</td>\n",
              "      <td>148</td>\n",
              "      <td>140</td>\n",
              "    </tr>\n",
              "    <tr>\n",
              "      <th>...</th>\n",
              "      <td>...</td>\n",
              "      <td>...</td>\n",
              "      <td>...</td>\n",
              "    </tr>\n",
              "    <tr>\n",
              "      <th>95</th>\n",
              "      <td>96</td>\n",
              "      <td>136</td>\n",
              "      <td>129</td>\n",
              "    </tr>\n",
              "    <tr>\n",
              "      <th>96</th>\n",
              "      <td>97</td>\n",
              "      <td>143</td>\n",
              "      <td>137</td>\n",
              "    </tr>\n",
              "    <tr>\n",
              "      <th>97</th>\n",
              "      <td>98</td>\n",
              "      <td>127</td>\n",
              "      <td>123</td>\n",
              "    </tr>\n",
              "    <tr>\n",
              "      <th>98</th>\n",
              "      <td>99</td>\n",
              "      <td>139</td>\n",
              "      <td>135</td>\n",
              "    </tr>\n",
              "    <tr>\n",
              "      <th>99</th>\n",
              "      <td>100</td>\n",
              "      <td>135</td>\n",
              "      <td>130</td>\n",
              "    </tr>\n",
              "  </tbody>\n",
              "</table>\n",
              "<p>100 rows × 3 columns</p>\n",
              "</div>\n",
              "      <button class=\"colab-df-convert\" onclick=\"convertToInteractive('df-726e866c-b775-461c-838c-2c5896b53715')\"\n",
              "              title=\"Convert this dataframe to an interactive table.\"\n",
              "              style=\"display:none;\">\n",
              "        \n",
              "  <svg xmlns=\"http://www.w3.org/2000/svg\" height=\"24px\"viewBox=\"0 0 24 24\"\n",
              "       width=\"24px\">\n",
              "    <path d=\"M0 0h24v24H0V0z\" fill=\"none\"/>\n",
              "    <path d=\"M18.56 5.44l.94 2.06.94-2.06 2.06-.94-2.06-.94-.94-2.06-.94 2.06-2.06.94zm-11 1L8.5 8.5l.94-2.06 2.06-.94-2.06-.94L8.5 2.5l-.94 2.06-2.06.94zm10 10l.94 2.06.94-2.06 2.06-.94-2.06-.94-.94-2.06-.94 2.06-2.06.94z\"/><path d=\"M17.41 7.96l-1.37-1.37c-.4-.4-.92-.59-1.43-.59-.52 0-1.04.2-1.43.59L10.3 9.45l-7.72 7.72c-.78.78-.78 2.05 0 2.83L4 21.41c.39.39.9.59 1.41.59.51 0 1.02-.2 1.41-.59l7.78-7.78 2.81-2.81c.8-.78.8-2.07 0-2.86zM5.41 20L4 18.59l7.72-7.72 1.47 1.35L5.41 20z\"/>\n",
              "  </svg>\n",
              "      </button>\n",
              "      \n",
              "  <style>\n",
              "    .colab-df-container {\n",
              "      display:flex;\n",
              "      flex-wrap:wrap;\n",
              "      gap: 12px;\n",
              "    }\n",
              "\n",
              "    .colab-df-convert {\n",
              "      background-color: #E8F0FE;\n",
              "      border: none;\n",
              "      border-radius: 50%;\n",
              "      cursor: pointer;\n",
              "      display: none;\n",
              "      fill: #1967D2;\n",
              "      height: 32px;\n",
              "      padding: 0 0 0 0;\n",
              "      width: 32px;\n",
              "    }\n",
              "\n",
              "    .colab-df-convert:hover {\n",
              "      background-color: #E2EBFA;\n",
              "      box-shadow: 0px 1px 2px rgba(60, 64, 67, 0.3), 0px 1px 3px 1px rgba(60, 64, 67, 0.15);\n",
              "      fill: #174EA6;\n",
              "    }\n",
              "\n",
              "    [theme=dark] .colab-df-convert {\n",
              "      background-color: #3B4455;\n",
              "      fill: #D2E3FC;\n",
              "    }\n",
              "\n",
              "    [theme=dark] .colab-df-convert:hover {\n",
              "      background-color: #434B5C;\n",
              "      box-shadow: 0px 1px 3px 1px rgba(0, 0, 0, 0.15);\n",
              "      filter: drop-shadow(0px 1px 2px rgba(0, 0, 0, 0.3));\n",
              "      fill: #FFFFFF;\n",
              "    }\n",
              "  </style>\n",
              "\n",
              "      <script>\n",
              "        const buttonEl =\n",
              "          document.querySelector('#df-726e866c-b775-461c-838c-2c5896b53715 button.colab-df-convert');\n",
              "        buttonEl.style.display =\n",
              "          google.colab.kernel.accessAllowed ? 'block' : 'none';\n",
              "\n",
              "        async function convertToInteractive(key) {\n",
              "          const element = document.querySelector('#df-726e866c-b775-461c-838c-2c5896b53715');\n",
              "          const dataTable =\n",
              "            await google.colab.kernel.invokeFunction('convertToInteractive',\n",
              "                                                     [key], {});\n",
              "          if (!dataTable) return;\n",
              "\n",
              "          const docLinkHtml = 'Like what you see? Visit the ' +\n",
              "            '<a target=\"_blank\" href=https://colab.research.google.com/notebooks/data_table.ipynb>data table notebook</a>'\n",
              "            + ' to learn more about interactive tables.';\n",
              "          element.innerHTML = '';\n",
              "          dataTable['output_type'] = 'display_data';\n",
              "          await google.colab.output.renderOutput(dataTable, element);\n",
              "          const docLink = document.createElement('div');\n",
              "          docLink.innerHTML = docLinkHtml;\n",
              "          element.appendChild(docLink);\n",
              "        }\n",
              "      </script>\n",
              "    </div>\n",
              "  </div>\n",
              "  "
            ]
          },
          "metadata": {},
          "execution_count": 36
        }
      ]
    },
    {
      "cell_type": "code",
      "source": [
        "# Extract the 'Blood Pressure Before' and 'Blood Pressure After' columns\n",
        "before = data['Blood Pressure Before (mmHg)']\n",
        "after = data['Blood Pressure After (mmHg)']\n"
      ],
      "metadata": {
        "id": "MY6aTwoOgFiH"
      },
      "execution_count": 37,
      "outputs": []
    },
    {
      "cell_type": "code",
      "source": [
        "# a. Measure the dispersion in both and interpret the results\n",
        "dispersion_before = np.var(before)\n",
        "dispersion_after = np.var(after)\n",
        "print(\"Dispersion (Variance) of 'Blood Pressure Before':\", dispersion_before)\n",
        "print(\"Dispersion (Variance) of 'Blood Pressure After':\", dispersion_after)\n"
      ],
      "metadata": {
        "colab": {
          "base_uri": "https://localhost:8080/"
        },
        "id": "y6R3eOhSgcuI",
        "outputId": "60da711f-b435-4b10-fc4a-3c57ee5f4ec2"
      },
      "execution_count": 38,
      "outputs": [
        {
          "output_type": "stream",
          "name": "stdout",
          "text": [
            "Dispersion (Variance) of 'Blood Pressure Before': 43.10189999999999\n",
            "Dispersion (Variance) of 'Blood Pressure After': 46.97039999999999\n"
          ]
        }
      ]
    },
    {
      "cell_type": "code",
      "source": [
        "# b. Calculate mean and 5% confidence interval and plot it in a graph\n",
        "mean_before = np.mean(before)\n",
        "mean_after = np.mean(after)\n",
        "confidence_interval_before = stats.norm.interval(0.95, loc=mean_before, scale=stats.sem(before))\n",
        "confidence_interval_after = stats.norm.interval(0.95, loc=mean_after, scale=stats.sem(after))\n",
        "\n",
        "# Plot the means and confidence intervals\n",
        "plt.bar(['Before', 'After'], [mean_before, mean_after], yerr=[mean_before - confidence_interval_before[0], mean_after - confidence_interval_after[0]], capsize=5)\n",
        "plt.xlabel('Measurement')\n",
        "plt.ylabel('Mean')\n",
        "plt.title('Mean and Confidence Interval')\n",
        "plt.show()"
      ],
      "metadata": {
        "colab": {
          "base_uri": "https://localhost:8080/",
          "height": 472
        },
        "id": "khGs45bbgjd_",
        "outputId": "ad1f5ca0-881d-4dbc-b7ea-055e0964be81"
      },
      "execution_count": 39,
      "outputs": [
        {
          "output_type": "display_data",
          "data": {
            "text/plain": [
              "<Figure size 640x480 with 1 Axes>"
            ],
            "image/png": "[encoded data removed]"
          },
          "metadata": {}
        }
      ]
    },
    {
      "cell_type": "code",
      "source": [
        "# c. Calculate the Mean absolute deviation and Standard deviation and interpret the results\n",
        "mad_before = np.mean(np.abs(before - np.mean(before)))\n",
        "mad_after = np.mean(np.abs(after - np.mean(after)))\n",
        "std_before = np.std(before)\n",
        "std_after = np.std(after)\n",
        "print(\"Mean Absolute Deviation (MAD) of 'Blood Pressure Before':\", mad_before)\n",
        "print(\"Mean Absolute Deviation (MAD) of 'Blood Pressure After':\", mad_after)\n",
        "print(\"Standard Deviation (SD) of 'Blood Pressure Before':\", std_before)\n",
        "print(\"Standard Deviation (SD) of 'Blood Pressure After':\", std_after)\n"
      ],
      "metadata": {
        "colab": {
          "base_uri": "https://localhost:8080/"
        },
        "id": "UXFmhPJbgx9O",
        "outputId": "3f52944a-cbfc-464a-f52c-90f891516e9e"
      },
      "execution_count": 40,
      "outputs": [
        {
          "output_type": "stream",
          "name": "stdout",
          "text": [
            "Mean Absolute Deviation (MAD) of 'Blood Pressure Before': 5.7118\n",
            "Mean Absolute Deviation (MAD) of 'Blood Pressure After': 5.9\n",
            "Standard Deviation (SD) of 'Blood Pressure Before': 6.56520372875054\n",
            "Standard Deviation (SD) of 'Blood Pressure After': 6.853495458523336\n"
          ]
        }
      ]
    },
    {
      "cell_type": "code",
      "source": [
        "# d. Calculate the correlation coefficient and check the significance at 1% level\n",
        "correlation_coefficient, p_value = stats.pearsonr(before, after)\n",
        "print(\"Correlation Coefficient:\", correlation_coefficient)\n",
        "if p_value < 0.01:\n",
        "    print(\"The correlation is significant at the 1% level.\")\n",
        "else:\n",
        "    print(\"The correlation is not significant at the 1% level.\")\n"
      ],
      "metadata": {
        "colab": {
          "base_uri": "https://localhost:8080/"
        },
        "id": "0oky-94Jg2Ra",
        "outputId": "6afd9b5a-0ec0-436f-b806-7c16d99d2306"
      },
      "execution_count": 41,
      "outputs": [
        {
          "output_type": "stream",
          "name": "stdout",
          "text": [
            "Correlation Coefficient: 0.9779485966556017\n",
            "The correlation is significant at the 1% level.\n"
          ]
        }
      ]
    }
  ]
}